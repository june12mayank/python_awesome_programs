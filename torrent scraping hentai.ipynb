{
  "nbformat": 4,
  "nbformat_minor": 0,
  "metadata": {
    "colab": {
      "name": "Welcome To Colaboratory",
      "provenance": [],
      "collapsed_sections": [],
      "include_colab_link": true
    },
    "kernelspec": {
      "display_name": "Python 3",
      "name": "python3"
    }
  },
  "cells": [
    {
      "cell_type": "markdown",
      "metadata": {
        "id": "view-in-github",
        "colab_type": "text"
      },
      "source": [
        "<a href=\"https://colab.research.google.com/github/june12mayank/python_awesome_programs/blob/master/torrent%20scraping%20hentai.ipynb\" target=\"_parent\"><img src=\"https://colab.research.google.com/assets/colab-badge.svg\" alt=\"Open In Colab\"/></a>"
      ]
    },
    {
      "cell_type": "code",
      "metadata": {
        "id": "pCBuK9K0cb9R",
        "colab_type": "code",
        "colab": {}
      },
      "source": [
        "import requests\n",
        "from bs4 import BeautifulSoup\n",
        "import re"
      ],
      "execution_count": 0,
      "outputs": []
    },
    {
      "cell_type": "code",
      "metadata": {
        "id": "Z0ErmnezdYIc",
        "colab_type": "code",
        "colab": {}
      },
      "source": [
        "page=1\n",
        "url='https://sukebei.nyaa.si/?s=seeders&o=desc&page='+str(page)"
      ],
      "execution_count": 0,
      "outputs": []
    },
    {
      "cell_type": "code",
      "metadata": {
        "id": "8PD_ZTzIrvZK",
        "colab_type": "code",
        "colab": {}
      },
      "source": [
        "history=[]"
      ],
      "execution_count": 0,
      "outputs": []
    },
    {
      "cell_type": "code",
      "metadata": {
        "id": "UfiDcuyrrtfh",
        "colab_type": "code",
        "colab": {}
      },
      "source": [
        "for page in range(1,20):\n",
        "  lst=[]\n",
        "  url='https://sukebei.nyaa.si/?s=seeders&o=desc&page='+str(page)\n",
        "  r=requests.get(url)\n",
        "  soup=BeautifulSoup(r.content,'html.parser')\n",
        "  for a in soup.find_all('a',href=True):\n",
        "    if(re.search('^magnet',a['href']))!= None:\n",
        "      if a['href'] not in history:\n",
        "        lst.append(a['href'])\n",
        "  history.append(lst)\n",
        "\n"
      ],
      "execution_count": 0,
      "outputs": []
    },
    {
      "cell_type": "code",
      "metadata": {
        "id": "9YXy3HT-cb45",
        "colab_type": "code",
        "colab": {}
      },
      "source": [
        "r=requests.get(url)"
      ],
      "execution_count": 0,
      "outputs": []
    },
    {
      "cell_type": "code",
      "metadata": {
        "id": "Tv-Y1D_tcb1h",
        "colab_type": "code",
        "colab": {}
      },
      "source": [
        "soup=BeautifulSoup(r.content,'html.parser')"
      ],
      "execution_count": 0,
      "outputs": []
    },
    {
      "cell_type": "code",
      "metadata": {
        "id": "RetBKatfcbzG",
        "colab_type": "code",
        "colab": {}
      },
      "source": [
        "lst=[]\n",
        "for a in soup.find_all('a',href=True):\n",
        "  lst.append(a['href'])"
      ],
      "execution_count": 0,
      "outputs": []
    },
    {
      "cell_type": "code",
      "metadata": {
        "id": "IvNu5fu4fJJu",
        "colab_type": "code",
        "colab": {}
      },
      "source": [
        "lst"
      ],
      "execution_count": 0,
      "outputs": []
    },
    {
      "cell_type": "code",
      "metadata": {
        "id": "UFBG4HETcbuO",
        "colab_type": "code",
        "colab": {
          "base_uri": "https://localhost:8080/",
          "height": 34
        },
        "outputId": "6d032479-53b1-4699-89b3-25186d3ed09e"
      },
      "source": [
        "x=re.search('^magnet',lst[52])\n",
        "print(x)"
      ],
      "execution_count": 20,
      "outputs": [
        {
          "output_type": "stream",
          "text": [
            "None\n"
          ],
          "name": "stdout"
        }
      ]
    },
    {
      "cell_type": "code",
      "metadata": {
        "id": "_w5TlQL1cbrq",
        "colab_type": "code",
        "colab": {}
      },
      "source": [
        "newlst=[]\n",
        "for l in lst:\n",
        "  if (re.search('^magnet',l)) != None:\n",
        "    newlst.append(l)"
      ],
      "execution_count": 0,
      "outputs": []
    },
    {
      "cell_type": "code",
      "metadata": {
        "id": "zYxCvxOEcbow",
        "colab_type": "code",
        "colab": {
          "base_uri": "https://localhost:8080/",
          "height": 54
        },
        "outputId": "4bbde5ac-3016-455e-d0eb-b1e63e99e784"
      },
      "source": [
        "newlst[-1]"
      ],
      "execution_count": 26,
      "outputs": [
        {
          "output_type": "execute_result",
          "data": {
            "text/plain": [
              "'magnet:?xt=urn:btih:0bbba701106a007956164161e110799b3e9330fa&dn=%28%E6%88%90%E5%B9%B4%E3%82%B3%E3%83%9F%E3%83%83%E3%82%AF%29%20%5B%E5%85%AB%E6%9C%88%E8%96%AB%5D%20%E5%85%AB%E6%9C%88%E8%96%AB%E5%82%91%E4%BD%9C%E3%83%9E%E3%82%B8%E3%82%BB%E3%83%AC%20H%E3%81%AA%E4%BD%93%E9%A8%93%E6%95%99%E3%81%88%E3%81%BE%E3%81%99%20%E5%A5%B3%E6%80%A7%E6%8A%95%E7%A8%BF12%E9%80%A3%E7%99%BA&tr=http%3A%2F%2Fsukebei.tracker.wf%3A8888%2Fannounce&tr=udp%3A%2F%2Fopen.stealth.si%3A80%2Fannounce&tr=udp%3A%2F%2Ftracker.opentrackr.org%3A1337%2Fannounce&tr=udp%3A%2F%2Ftracker.coppersurfer.tk%3A6969%2Fannounce&tr=udp%3A%2F%2Fexodus.desync.com%3A6969%2Fannounce'"
            ]
          },
          "metadata": {
            "tags": []
          },
          "execution_count": 26
        }
      ]
    },
    {
      "cell_type": "code",
      "metadata": {
        "id": "afLkT_5fcbmd",
        "colab_type": "code",
        "colab": {}
      },
      "source": [
        ""
      ],
      "execution_count": 0,
      "outputs": []
    }
  ]
}