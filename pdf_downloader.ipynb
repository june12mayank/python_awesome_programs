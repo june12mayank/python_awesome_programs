{
  "nbformat": 4,
  "nbformat_minor": 0,
  "metadata": {
    "colab": {
      "name": "pdf downloader",
      "provenance": [],
      "mount_file_id": "1I33Naq2vDyR93zz4X9u4FClrjAd3enem",
      "authorship_tag": "ABX9TyM2MUlkNNB0n55fJaiuBo6Z",
      "include_colab_link": true
    },
    "kernelspec": {
      "name": "python3",
      "display_name": "Python 3"
    }
  },
  "cells": [
    {
      "cell_type": "markdown",
      "metadata": {
        "id": "view-in-github",
        "colab_type": "text"
      },
      "source": [
        "<a href=\"https://colab.research.google.com/github/june12mayank/python_awesome_programs/blob/master/pdf_downloader.ipynb\" target=\"_parent\"><img src=\"https://colab.research.google.com/assets/colab-badge.svg\" alt=\"Open In Colab\"/></a>"
      ]
    },
    {
      "cell_type": "code",
      "metadata": {
        "id": "ZlhhzD4VVgfA",
        "colab_type": "code",
        "colab": {}
      },
      "source": [
        "import requests\n",
        "from bs4 import BeautifulSoup\n",
        "import os\n",
        "from urllib.parse import urljoin\n"
      ],
      "execution_count": 0,
      "outputs": []
    },
    {
      "cell_type": "code",
      "metadata": {
        "id": "9SM1P-daV9W8",
        "colab_type": "code",
        "colab": {}
      },
      "source": [
        "url='http://visionias.in/resources/toppers_answers.php'"
      ],
      "execution_count": 0,
      "outputs": []
    },
    {
      "cell_type": "code",
      "metadata": {
        "id": "xQNQiQVuXLys",
        "colab_type": "code",
        "colab": {}
      },
      "source": [
        "folder_location = r'/content/drive/My Drive/study_material/copies'\n",
        "if not os.path.exists(folder_location):os.mkdir(folder_location)"
      ],
      "execution_count": 0,
      "outputs": []
    },
    {
      "cell_type": "code",
      "metadata": {
        "id": "8Q31LNR0WZhR",
        "colab_type": "code",
        "colab": {}
      },
      "source": [
        "response = requests.get(url)\n",
        "soup= BeautifulSoup(response.text, \"html.parser\")\n",
        "for link in soup.select(\"a[href$='.pdf']\"):\n",
        "  filename = os.path.join(folder_location,link['href'].split('/')[-1])\n",
        "  with open(filename, 'wb') as f:\n",
        "        f.write(requests.get(urljoin(url,link['href'])).content)"
      ],
      "execution_count": 0,
      "outputs": []
    },
    {
      "cell_type": "code",
      "metadata": {
        "id": "ATgs4OLvbai9",
        "colab_type": "code",
        "colab": {
          "base_uri": "https://localhost:8080/",
          "height": 34
        },
        "outputId": "b8fabc31-422d-41db-a8f2-7586199f9c44"
      },
      "source": [
        "DIR = '/content/drive/My Drive/study_material/copies'\n",
        "print (len([name for name in os.listdir(DIR) if os.path.isfile(os.path.join(DIR, name))]))"
      ],
      "execution_count": 7,
      "outputs": [
        {
          "output_type": "stream",
          "text": [
            "713\n"
          ],
          "name": "stdout"
        }
      ]
    }
  ]
}